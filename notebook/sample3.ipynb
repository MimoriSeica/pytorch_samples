{
 "cells": [
  {
   "cell_type": "code",
   "execution_count": 1,
   "metadata": {},
   "outputs": [],
   "source": [
    "import torch\n",
    "from torch import nn"
   ]
  },
  {
   "cell_type": "code",
   "execution_count": 2,
   "metadata": {},
   "outputs": [],
   "source": [
    "net = nn.Sequential(\n",
    "    nn.Linear(64, 32),\n",
    "    nn.ReLU(),\n",
    "    nn.Linear(32, 16),\n",
    "    nn.ReLU(),\n",
    "    nn.Linear(16, 10)\n",
    ")"
   ]
  },
  {
   "cell_type": "code",
   "execution_count": 3,
   "metadata": {},
   "outputs": [],
   "source": [
    "from torch import optim\n",
    "from sklearn.datasets import load_digits"
   ]
  },
  {
   "cell_type": "code",
   "execution_count": 4,
   "metadata": {},
   "outputs": [],
   "source": [
    "digits = load_digits()\n",
    "X = digits.data\n",
    "Y = digits.target"
   ]
  },
  {
   "cell_type": "code",
   "execution_count": 5,
   "metadata": {},
   "outputs": [],
   "source": [
    "X = torch.tensor(X, dtype = torch.float32)\n",
    "Y = torch.tensor(Y, dtype = torch.int64)"
   ]
  },
  {
   "cell_type": "code",
   "execution_count": 7,
   "metadata": {},
   "outputs": [],
   "source": [
    "# ソフトマクスクロスエントロピー\n",
    "loss_fn = nn.CrossEntropyLoss()\n",
    "# Adam\n",
    "optimizer = optim.Adam(net.parameters())\n",
    "losses = []"
   ]
  },
  {
   "cell_type": "code",
   "execution_count": 8,
   "metadata": {},
   "outputs": [],
   "source": [
    "for eopc in range(100):\n",
    "    optimizer.zero_grad()\n",
    "    y_pred = net(X)\n",
    "    loss = loss_fn(y_pred, Y)\n",
    "    loss.backward()\n",
    "    optimizer.step()\n",
    "    losses.append(loss.item())"
   ]
  },
  {
   "cell_type": "code",
   "execution_count": 9,
   "metadata": {},
   "outputs": [
    {
     "data": {
      "text/plain": [
       "[2.5502407550811768,\n",
       " 2.4839389324188232,\n",
       " 2.4274983406066895,\n",
       " 2.3784642219543457,\n",
       " 2.3356006145477295,\n",
       " 2.2973062992095947,\n",
       " 2.262259006500244,\n",
       " 2.2295382022857666,\n",
       " 2.1985440254211426,\n",
       " 2.168633460998535,\n",
       " 2.139270782470703,\n",
       " 2.1105074882507324,\n",
       " 2.082658290863037,\n",
       " 2.05584979057312,\n",
       " 2.0298497676849365,\n",
       " 2.004445791244507,\n",
       " 1.979355812072754,\n",
       " 1.9545079469680786,\n",
       " 1.9294618368148804,\n",
       " 1.9042036533355713,\n",
       " 1.8782269954681396,\n",
       " 1.8514585494995117,\n",
       " 1.8240082263946533,\n",
       " 1.7960762977600098,\n",
       " 1.768100380897522,\n",
       " 1.7400391101837158,\n",
       " 1.7120054960250854,\n",
       " 1.6836917400360107,\n",
       " 1.6552734375,\n",
       " 1.6265830993652344,\n",
       " 1.597684383392334,\n",
       " 1.5682584047317505,\n",
       " 1.5384048223495483,\n",
       " 1.50836181640625,\n",
       " 1.4783209562301636,\n",
       " 1.4482872486114502,\n",
       " 1.418117642402649,\n",
       " 1.3878473043441772,\n",
       " 1.3577202558517456,\n",
       " 1.3276013135910034,\n",
       " 1.2974990606307983,\n",
       " 1.2674105167388916,\n",
       " 1.2371329069137573,\n",
       " 1.2066477537155151,\n",
       " 1.176020860671997,\n",
       " 1.1452935934066772,\n",
       " 1.1143720149993896,\n",
       " 1.0833280086517334,\n",
       " 1.0524603128433228,\n",
       " 1.0218696594238281,\n",
       " 0.9913852214813232,\n",
       " 0.9612014889717102,\n",
       " 0.931283175945282,\n",
       " 0.9016193151473999,\n",
       " 0.872258186340332,\n",
       " 0.8433216214179993,\n",
       " 0.8147993087768555,\n",
       " 0.7868286371231079,\n",
       " 0.7596143484115601,\n",
       " 0.7332032918930054,\n",
       " 0.7076187133789062,\n",
       " 0.6828553080558777,\n",
       " 0.6589128375053406,\n",
       " 0.6359238028526306,\n",
       " 0.6139227747917175,\n",
       " 0.5928481221199036,\n",
       " 0.5727000832557678,\n",
       " 0.5534825325012207,\n",
       " 0.5351707339286804,\n",
       " 0.5177129507064819,\n",
       " 0.5010564923286438,\n",
       " 0.4851655960083008,\n",
       " 0.4700338542461395,\n",
       " 0.4556741714477539,\n",
       " 0.44201070070266724,\n",
       " 0.4290415942668915,\n",
       " 0.41670477390289307,\n",
       " 0.4049481451511383,\n",
       " 0.393753319978714,\n",
       " 0.383094847202301,\n",
       " 0.37293094396591187,\n",
       " 0.3632362186908722,\n",
       " 0.35402053594589233,\n",
       " 0.3452235162258148,\n",
       " 0.3367951810359955,\n",
       " 0.3287260830402374,\n",
       " 0.32102468609809875,\n",
       " 0.3136653006076813,\n",
       " 0.3066296875476837,\n",
       " 0.2998913526535034,\n",
       " 0.2934328019618988,\n",
       " 0.28723588585853577,\n",
       " 0.28127098083496094,\n",
       " 0.2755304276943207,\n",
       " 0.26998990774154663,\n",
       " 0.264646053314209,\n",
       " 0.2594843804836273,\n",
       " 0.254494845867157,\n",
       " 0.24967189133167267,\n",
       " 0.24501033127307892]"
      ]
     },
     "execution_count": 9,
     "metadata": {},
     "output_type": "execute_result"
    }
   ],
   "source": [
    "losses"
   ]
  },
  {
   "cell_type": "code",
   "execution_count": 10,
   "metadata": {},
   "outputs": [
    {
     "data": {
      "text/plain": [
       "tensor([0, 1, 2,  ..., 8, 9, 8])"
      ]
     },
     "execution_count": 10,
     "metadata": {},
     "output_type": "execute_result"
    }
   ],
   "source": [
    "_, y_pred = torch.max(net(X), 1)\n",
    "y_pred"
   ]
  },
  {
   "cell_type": "code",
   "execution_count": 12,
   "metadata": {},
   "outputs": [
    {
     "data": {
      "text/plain": [
       "0.9393433500278241"
      ]
     },
     "execution_count": 12,
     "metadata": {},
     "output_type": "execute_result"
    }
   ],
   "source": [
    "(y_pred == Y).sum().item() / len(Y)"
   ]
  },
  {
   "cell_type": "code",
   "execution_count": null,
   "metadata": {},
   "outputs": [],
   "source": []
  }
 ],
 "metadata": {
  "kernelspec": {
   "display_name": "Python 3",
   "language": "python",
   "name": "python3"
  },
  "language_info": {
   "codemirror_mode": {
    "name": "ipython",
    "version": 3
   },
   "file_extension": ".py",
   "mimetype": "text/x-python",
   "name": "python",
   "nbconvert_exporter": "python",
   "pygments_lexer": "ipython3",
   "version": "3.8.6"
  }
 },
 "nbformat": 4,
 "nbformat_minor": 4
}
