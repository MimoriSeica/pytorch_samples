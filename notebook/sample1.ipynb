{
 "cells": [
  {
   "cell_type": "code",
   "execution_count": 1,
   "metadata": {},
   "outputs": [],
   "source": [
    "import torch"
   ]
  },
  {
   "cell_type": "code",
   "execution_count": 2,
   "metadata": {},
   "outputs": [
    {
     "data": {
      "text/plain": [
       "tensor([1., 2., 3.])"
      ]
     },
     "execution_count": 2,
     "metadata": {},
     "output_type": "execute_result"
    }
   ],
   "source": [
    "w_true = torch.Tensor([1, 2, 3])\n",
    "w_true"
   ]
  },
  {
   "cell_type": "code",
   "execution_count": 3,
   "metadata": {},
   "outputs": [
    {
     "data": {
      "text/plain": [
       "tensor([[ 1.0000,  2.6208,  0.8279],\n",
       "        [ 1.0000,  0.5019, -0.2946],\n",
       "        [ 1.0000,  0.5302, -1.8716],\n",
       "        [ 1.0000, -1.5177, -0.5041],\n",
       "        [ 1.0000, -1.2374, -1.9668],\n",
       "        [ 1.0000,  1.2632, -0.6084],\n",
       "        [ 1.0000, -0.2370,  0.0197],\n",
       "        [ 1.0000,  0.0727,  0.9997],\n",
       "        [ 1.0000,  0.1709,  0.6611],\n",
       "        [ 1.0000,  1.0502, -0.5822],\n",
       "        [ 1.0000,  0.4014, -1.5088],\n",
       "        [ 1.0000, -0.3484, -0.3712],\n",
       "        [ 1.0000, -1.3816,  0.1555],\n",
       "        [ 1.0000,  0.1277,  1.1040],\n",
       "        [ 1.0000,  0.5116, -1.2879],\n",
       "        [ 1.0000,  0.7788, -0.0783],\n",
       "        [ 1.0000, -0.4771,  0.6008],\n",
       "        [ 1.0000,  0.0474,  1.1570],\n",
       "        [ 1.0000,  0.7493, -1.4972],\n",
       "        [ 1.0000,  0.5192, -0.0698],\n",
       "        [ 1.0000, -0.2857,  0.2190],\n",
       "        [ 1.0000,  0.1035, -0.7618],\n",
       "        [ 1.0000, -1.8716,  0.0708],\n",
       "        [ 1.0000, -0.0551, -1.3538],\n",
       "        [ 1.0000,  1.3754, -1.2515],\n",
       "        [ 1.0000, -1.8365,  0.9980],\n",
       "        [ 1.0000, -1.3625,  0.1874],\n",
       "        [ 1.0000,  0.8575, -0.4063],\n",
       "        [ 1.0000, -1.0327,  0.1768],\n",
       "        [ 1.0000, -1.4058,  0.5447],\n",
       "        [ 1.0000,  0.9176, -0.0695],\n",
       "        [ 1.0000,  1.8049, -1.6843],\n",
       "        [ 1.0000, -1.0771, -0.9151],\n",
       "        [ 1.0000,  0.1057,  0.6972],\n",
       "        [ 1.0000, -0.5930,  0.7357],\n",
       "        [ 1.0000, -0.4173,  1.7727],\n",
       "        [ 1.0000, -1.4947,  1.8629],\n",
       "        [ 1.0000, -1.3466,  2.0631],\n",
       "        [ 1.0000, -1.6301, -0.1490],\n",
       "        [ 1.0000, -0.9431, -0.4893],\n",
       "        [ 1.0000,  0.4789, -0.3419],\n",
       "        [ 1.0000,  0.5103, -0.3937],\n",
       "        [ 1.0000, -1.0100, -0.4952],\n",
       "        [ 1.0000, -0.7150,  0.9136],\n",
       "        [ 1.0000,  0.3934, -1.3004],\n",
       "        [ 1.0000, -0.1547, -0.0179],\n",
       "        [ 1.0000,  0.9709,  0.1903],\n",
       "        [ 1.0000, -2.0005, -0.4548],\n",
       "        [ 1.0000,  0.6781, -1.1887],\n",
       "        [ 1.0000,  0.5648, -0.5930],\n",
       "        [ 1.0000,  1.4442,  0.2934],\n",
       "        [ 1.0000,  0.5323, -0.4882],\n",
       "        [ 1.0000,  0.0523,  2.0524],\n",
       "        [ 1.0000, -1.9343, -0.3659],\n",
       "        [ 1.0000,  1.2577,  0.1383],\n",
       "        [ 1.0000, -0.9155, -0.1048],\n",
       "        [ 1.0000, -0.1686, -1.0607],\n",
       "        [ 1.0000,  0.3054,  0.0493],\n",
       "        [ 1.0000,  0.2298,  1.6980],\n",
       "        [ 1.0000,  1.4007,  0.0456],\n",
       "        [ 1.0000, -1.5101,  1.6192],\n",
       "        [ 1.0000, -0.0516, -0.7970],\n",
       "        [ 1.0000, -1.4153,  1.3452],\n",
       "        [ 1.0000, -0.9981, -0.5118],\n",
       "        [ 1.0000, -1.6309,  0.3600],\n",
       "        [ 1.0000, -1.0891, -2.9595],\n",
       "        [ 1.0000, -0.4341, -0.7624],\n",
       "        [ 1.0000, -0.1229, -0.9334],\n",
       "        [ 1.0000,  0.2371,  0.1480],\n",
       "        [ 1.0000,  0.7923, -1.4599],\n",
       "        [ 1.0000, -0.5179,  1.2830],\n",
       "        [ 1.0000,  0.4302,  0.2634],\n",
       "        [ 1.0000, -0.0040, -0.1255],\n",
       "        [ 1.0000, -0.4533,  0.1230],\n",
       "        [ 1.0000, -0.0615, -1.1299],\n",
       "        [ 1.0000, -0.3408,  0.4514],\n",
       "        [ 1.0000, -1.3815,  1.8397],\n",
       "        [ 1.0000, -0.3356,  0.9350],\n",
       "        [ 1.0000,  0.8480,  1.1860],\n",
       "        [ 1.0000,  0.8673, -0.6909],\n",
       "        [ 1.0000, -1.0293, -0.1726],\n",
       "        [ 1.0000, -1.4968, -0.2704],\n",
       "        [ 1.0000,  0.1546, -1.2328],\n",
       "        [ 1.0000, -0.5265, -0.8757],\n",
       "        [ 1.0000,  0.8285, -0.4421],\n",
       "        [ 1.0000, -0.5311,  0.4369],\n",
       "        [ 1.0000,  0.6668,  0.8914],\n",
       "        [ 1.0000,  1.3041,  0.3754],\n",
       "        [ 1.0000,  0.6913, -0.8030],\n",
       "        [ 1.0000,  0.6526,  2.6273],\n",
       "        [ 1.0000, -1.1188,  1.2510],\n",
       "        [ 1.0000,  1.4642, -0.0179],\n",
       "        [ 1.0000, -1.1775,  1.6400],\n",
       "        [ 1.0000,  0.7039,  0.7151],\n",
       "        [ 1.0000, -0.5148, -1.1951],\n",
       "        [ 1.0000, -0.3733, -0.0150],\n",
       "        [ 1.0000, -0.5840, -0.0693],\n",
       "        [ 1.0000,  0.3629, -0.9960],\n",
       "        [ 1.0000,  0.7097,  0.2800],\n",
       "        [ 1.0000,  0.5160,  0.5193]])"
      ]
     },
     "execution_count": 3,
     "metadata": {},
     "output_type": "execute_result"
    }
   ],
   "source": [
    "X = torch.cat([torch.ones(100, 1), torch.randn(100, 2)], 1)\n",
    "X"
   ]
  },
  {
   "cell_type": "code",
   "execution_count": 4,
   "metadata": {},
   "outputs": [
    {
     "data": {
      "text/plain": [
       "tensor([  7.7167,   1.2666,  -3.7841,  -4.1879,  -6.6588,   1.1042,   0.6722,\n",
       "          4.0984,   3.4918,   1.6702,  -2.0557,  -0.2296,  -1.5248,   4.3321,\n",
       "         -1.2986,   2.1301,   2.0470,   5.6801,  -1.7786,   2.1960,   1.0036,\n",
       "         -1.3281,  -2.2957,  -2.9030,  -0.3409,  -0.5703,  -1.3159,   1.3466,\n",
       "         -0.8571,  -0.6001,   3.2326,  -1.4332,  -3.5858,   4.2458,   2.2791,\n",
       "          5.6067,   3.6698,   5.0490,  -2.8904,  -2.2038,   1.1149,   0.4601,\n",
       "         -2.5299,   1.5978,  -2.0224,   0.1770,   2.9101,  -4.2238,  -1.7930,\n",
       "          0.6293,   4.7827,   1.3810,   7.7502,  -4.1101,   3.6795,  -1.7605,\n",
       "         -2.2307,   1.9330,   6.7105,   3.3955,   3.6588,  -1.0930,   1.8218,\n",
       "         -2.2333,  -1.5865, -10.5735,  -2.2402,  -2.1877,   2.3687,  -1.8615,\n",
       "          4.8726,   2.8313,   1.0975,   0.9018,  -1.4694,   2.1577,   4.2957,\n",
       "          2.9642,   6.5737,   0.4393,  -0.7740,  -3.7357,  -3.0469,  -2.2895,\n",
       "          1.5093,   1.8015,   4.8736,   5.5097,  -0.9673,   9.9777,   2.3868,\n",
       "          3.7309,   4.0951,   3.9377,  -4.2238,   0.7921,  -0.8256,  -1.1634,\n",
       "          3.7691,   2.9547])"
      ]
     },
     "execution_count": 4,
     "metadata": {},
     "output_type": "execute_result"
    }
   ],
   "source": [
    "y = torch.mv(X, w_true) + torch.randn(100) * 0.5\n",
    "y"
   ]
  },
  {
   "cell_type": "code",
   "execution_count": 5,
   "metadata": {},
   "outputs": [
    {
     "data": {
      "text/plain": [
       "tensor([ 0.7422, -0.7277,  0.4766], requires_grad=True)"
      ]
     },
     "execution_count": 5,
     "metadata": {},
     "output_type": "execute_result"
    }
   ],
   "source": [
    "w = torch.randn(3, requires_grad = True)\n",
    "w"
   ]
  },
  {
   "cell_type": "code",
   "execution_count": 6,
   "metadata": {},
   "outputs": [],
   "source": [
    "gammma = 0.1"
   ]
  },
  {
   "cell_type": "code",
   "execution_count": 7,
   "metadata": {},
   "outputs": [
    {
     "data": {
      "text/plain": [
       "[11.294669151306152,\n",
       " 8.046624183654785,\n",
       " 5.761723041534424,\n",
       " 4.151144504547119,\n",
       " 3.0137932300567627,\n",
       " 2.2092761993408203,\n",
       " 1.6393225193023682,\n",
       " 1.2349838018417358,\n",
       " 0.947776198387146,\n",
       " 0.7435367703437805,\n",
       " 0.598149836063385,\n",
       " 0.49456170201301575,\n",
       " 0.4206944704055786,\n",
       " 0.3679819107055664,\n",
       " 0.3303406536579132,\n",
       " 0.3034456968307495,\n",
       " 0.284218966960907,\n",
       " 0.27046769857406616,\n",
       " 0.2606284022331238,\n",
       " 0.253585547208786,\n",
       " 0.24854274094104767,\n",
       " 0.2449309229850769,\n",
       " 0.24234333634376526,\n",
       " 0.24048909544944763,\n",
       " 0.23916012048721313,\n",
       " 0.23820741474628448,\n",
       " 0.23752433061599731,\n",
       " 0.23703449964523315,\n",
       " 0.23668324947357178,\n",
       " 0.23643125593662262,\n",
       " 0.23625051975250244,\n",
       " 0.23612083494663239,\n",
       " 0.23602783679962158,\n",
       " 0.23596104979515076,\n",
       " 0.23591315746307373,\n",
       " 0.2358788251876831,\n",
       " 0.2358541488647461,\n",
       " 0.2358364462852478,\n",
       " 0.23582375049591064,\n",
       " 0.23581463098526,\n",
       " 0.2358081042766571,\n",
       " 0.23580338060855865,\n",
       " 0.23580001294612885,\n",
       " 0.23579758405685425,\n",
       " 0.23579588532447815,\n",
       " 0.23579461872577667,\n",
       " 0.23579370975494385,\n",
       " 0.2357930690050125,\n",
       " 0.2357926219701767,\n",
       " 0.23579230904579163,\n",
       " 0.23579207062721252,\n",
       " 0.2357918918132782,\n",
       " 0.23579175770282745,\n",
       " 0.23579168319702148,\n",
       " 0.2357916235923767,\n",
       " 0.23579159379005432,\n",
       " 0.23579150438308716,\n",
       " 0.23579150438308716,\n",
       " 0.23579150438308716,\n",
       " 0.23579147458076477,\n",
       " 0.2357914298772812,\n",
       " 0.23579145967960358,\n",
       " 0.23579148948192596,\n",
       " 0.2357914298772812,\n",
       " 0.23579148948192596,\n",
       " 0.23579148948192596,\n",
       " 0.23579145967960358,\n",
       " 0.23579141497612,\n",
       " 0.23579147458076477,\n",
       " 0.2357914298772812,\n",
       " 0.23579147458076477,\n",
       " 0.23579145967960358,\n",
       " 0.23579145967960358,\n",
       " 0.2357914298772812,\n",
       " 0.23579145967960358,\n",
       " 0.23579147458076477,\n",
       " 0.23579147458076477,\n",
       " 0.23579147458076477,\n",
       " 0.23579147458076477,\n",
       " 0.23579148948192596,\n",
       " 0.2357914298772812,\n",
       " 0.23579145967960358,\n",
       " 0.23579141497612,\n",
       " 0.23579147458076477,\n",
       " 0.23579141497612,\n",
       " 0.2357913851737976,\n",
       " 0.2357914298772812,\n",
       " 0.23579141497612,\n",
       " 0.23579141497612,\n",
       " 0.2357914000749588,\n",
       " 0.23579147458076477,\n",
       " 0.2357914298772812,\n",
       " 0.23579147458076477,\n",
       " 0.23579145967960358,\n",
       " 0.2357914298772812,\n",
       " 0.2357914298772812,\n",
       " 0.2357914298772812,\n",
       " 0.2357914298772812,\n",
       " 0.2357914298772812,\n",
       " 0.2357914298772812]"
      ]
     },
     "execution_count": 7,
     "metadata": {},
     "output_type": "execute_result"
    }
   ],
   "source": [
    "losses = []\n",
    "for epoc in range(100):\n",
    "    w.grad = None\n",
    "    y_pred = torch.mv(X, w)\n",
    "    loss = torch.mean((y - y_pred) ** 2)\n",
    "    loss.backward()\n",
    "    w.data = w.data - gammma * w.grad.data\n",
    "    losses.append(loss.item())\n",
    "    \n",
    "losses"
   ]
  },
  {
   "cell_type": "code",
   "execution_count": 8,
   "metadata": {},
   "outputs": [
    {
     "data": {
      "text/plain": [
       "[<matplotlib.lines.Line2D at 0x129f25760>]"
      ]
     },
     "execution_count": 8,
     "metadata": {},
     "output_type": "execute_result"
    },
    {
     "data": {
      "image/png": "[encoded data removed]",
      "text/plain": [
       "<Figure size 432x288 with 1 Axes>"
      ]
     },
     "metadata": {
      "needs_background": "light"
     },
     "output_type": "display_data"
    }
   ],
   "source": [
    "%matplotlib inline\n",
    "from matplotlib import pyplot as plt\n",
    "\n",
    "plt.plot(losses)"
   ]
  },
  {
   "cell_type": "code",
   "execution_count": 9,
   "metadata": {},
   "outputs": [
    {
     "data": {
      "text/plain": [
       "tensor([1.0315, 1.9622, 3.0575], requires_grad=True)"
      ]
     },
     "execution_count": 9,
     "metadata": {},
     "output_type": "execute_result"
    }
   ],
   "source": [
    "w"
   ]
  },
  {
   "cell_type": "code",
   "execution_count": null,
   "metadata": {},
   "outputs": [],
   "source": []
  }
 ],
 "metadata": {
  "kernelspec": {
   "display_name": "Python 3",
   "language": "python",
   "name": "python3"
  },
  "language_info": {
   "codemirror_mode": {
    "name": "ipython",
    "version": 3
   },
   "file_extension": ".py",
   "mimetype": "text/x-python",
   "name": "python",
   "nbconvert_exporter": "python",
   "pygments_lexer": "ipython3",
   "version": "3.8.6"
  }
 },
 "nbformat": 4,
 "nbformat_minor": 4
}
